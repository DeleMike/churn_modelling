{
 "cells": [
  {
   "cell_type": "code",
   "execution_count": 1,
   "id": "8b519110",
   "metadata": {},
   "outputs": [],
   "source": [
    "import requests"
   ]
  },
  {
   "cell_type": "code",
   "execution_count": 7,
   "id": "28ae766e",
   "metadata": {},
   "outputs": [],
   "source": [
    "url = 'http://localhost:9696/predict'"
   ]
  },
  {
   "cell_type": "code",
   "execution_count": 3,
   "id": "db3cd6a8",
   "metadata": {},
   "outputs": [],
   "source": [
    "customer = {\n",
    "   \"geography\": \"france\",\n",
    "   \"gender\": \"female\",\n",
    "   \"hascrcard\": \"yes\",\n",
    "   \"isactivemember\": \"no\",\n",
    "   \"creditscore\": 562,\n",
    "   \"age\": 57,\n",
    "   \"tenure\": 3,\n",
    "   \"balance\": 0.0,\n",
    "   \"numofproducts\": 3,\n",
    "   \"estimatedsalary\": 6554.97\n",
    "}"
   ]
  },
  {
   "cell_type": "code",
   "execution_count": 4,
   "id": "37d4aa6c",
   "metadata": {},
   "outputs": [
    {
     "data": {
      "text/plain": [
       "{'geography': 'france',\n",
       " 'gender': 'female',\n",
       " 'hascrcard': 'yes',\n",
       " 'isactivemember': 'no',\n",
       " 'creditscore': 562,\n",
       " 'age': 57,\n",
       " 'tenure': 3,\n",
       " 'balance': 0.0,\n",
       " 'numofproducts': 3,\n",
       " 'estimatedsalary': 6554.97}"
      ]
     },
     "execution_count": 4,
     "metadata": {},
     "output_type": "execute_result"
    }
   ],
   "source": [
    "customer"
   ]
  },
  {
   "cell_type": "code",
   "execution_count": 10,
   "id": "a3989f27",
   "metadata": {},
   "outputs": [
    {
     "data": {
      "text/plain": [
       "{'churn': True, 'exit_probabilty': 0.9664813876152039}"
      ]
     },
     "execution_count": 10,
     "metadata": {},
     "output_type": "execute_result"
    }
   ],
   "source": [
    "response = requests.post(url, json=customer).json()\n",
    "response"
   ]
  },
  {
   "cell_type": "code",
   "execution_count": null,
   "id": "6cd1d9c3",
   "metadata": {},
   "outputs": [],
   "source": []
  }
 ],
 "metadata": {
  "kernelspec": {
   "display_name": "Python 3 (ipykernel)",
   "language": "python",
   "name": "python3"
  },
  "language_info": {
   "codemirror_mode": {
    "name": "ipython",
    "version": 3
   },
   "file_extension": ".py",
   "mimetype": "text/x-python",
   "name": "python",
   "nbconvert_exporter": "python",
   "pygments_lexer": "ipython3",
   "version": "3.7.9"
  }
 },
 "nbformat": 4,
 "nbformat_minor": 5
}
